{
  "cells": [
    {
      "cell_type": "markdown",
      "metadata": {
        "id": "view-in-github",
        "colab_type": "text"
      },
      "source": [
        "<a href=\"https://colab.research.google.com/github/Oscar-Woodward39/Capability-day/blob/main/Copy_of_text_sumarizier_extended.ipynb\" target=\"_parent\"><img src=\"https://colab.research.google.com/assets/colab-badge.svg\" alt=\"Open In Colab\"/></a>"
      ]
    },
    {
      "cell_type": "code",
      "source": [
        "!pip install transformers -q"
      ],
      "metadata": {
        "id": "CT-MEcHCfhDh"
      },
      "execution_count": null,
      "outputs": []
    },
    {
      "cell_type": "code",
      "execution_count": null,
      "metadata": {
        "id": "3_gjhmg416Jw"
      },
      "outputs": [],
      "source": [
        "from transformers import pipeline\n",
        "summary_pipeline = pipeline(\"summarization\", model=\"facebook/bart-large-cnn\")\n",
        "\n",
        "article = '''\n",
        "A lack of transparency and reporting standards in the scientifc community has led to increasing and widespread\n",
        "concerns relating to reproduction and integrity of results. As an omics science, which generates vast amounts of data and\n",
        "relies heavily on data science for deriving biological meaning, metabolomics is highly vulnerable to irreproducibility. The\n",
        "metabolomics community has made substantial eforts to align with FAIR data standards by promoting open data formats,\n",
        "data repositories, online spectral libraries, and metabolite databases. Open data analysis platforms also exist; however,\n",
        "they tend to be infexible and rely on the user to adequately report their methods and results. To enable FAIR data science\n",
        "in metabolomics, methods and results need to be transparently disseminated in a manner that is rapid, reusable, and fully\n",
        "integrated with the published work. To ensure broad use within the community such a framework also needs to be inclusive\n",
        "and intuitive for both computational novices and experts alike\n",
        "'''\n",
        "summary = summary_pipeline(article, max_length = 50, min_length= 20)\n",
        "print(summary)\n",
        "text = summary[0]['summary_text']\n",
        "print(text)"
      ]
    },
    {
      "cell_type": "code",
      "source": [
        "from transformers import pipeline\n",
        "def summarise(article):\n",
        "  summary_pipeline = pipeline(\"summarization\", model=\"facebook/bart-large-cnn\")\n",
        "  summary = summary_pipeline(article, max_length = 50, min_length= 20)\n",
        "  text = summary[0]['summary_text']\n",
        "  return text\n"
      ],
      "metadata": {
        "id": "LQajbB93giuF"
      },
      "execution_count": null,
      "outputs": []
    },
    {
      "cell_type": "code",
      "source": [
        "some_text = '''\n",
        "A lack of transparency and reporting standards in the scientifc community has led to increasing and widespread\n",
        "concerns relating to reproduction\n",
        "'''\n",
        "\n",
        "print(summarise(some_text))"
      ],
      "metadata": {
        "id": "qB3Tck54g-5E"
      },
      "execution_count": null,
      "outputs": []
    },
    {
      "cell_type": "code",
      "source": [
        "help(str.split)"
      ],
      "metadata": {
        "id": "7pyqFWiQjIpO"
      },
      "execution_count": null,
      "outputs": []
    },
    {
      "cell_type": "code",
      "source": [
        "some_text = '''\n",
        "A lack of transparency and reporting standards in the scientifc community has led to increasing and widespread\n",
        "concerns relating to reproduction\n",
        "'''\n",
        "count = len(some_text.split())\n",
        "print(count)"
      ],
      "metadata": {
        "id": "T3BcaeAkjyVJ"
      },
      "execution_count": null,
      "outputs": []
    },
    {
      "cell_type": "code",
      "source": [
        "from transformers import pipeline\n",
        "\n",
        "def summarise(article):\n",
        "  assert len(article.split()) > 50, 'Please make sure your text has at least 50 words'\n",
        "\n",
        "  summary_pipeline = pipeline(\"summarization\", model=\"facebook/bart-large-cnn\")\n",
        "  summary = summary_pipeline(article, max_length = 50, min_length= 20)\n",
        "  text = summary[0]['summary_text']\n",
        "  return text"
      ],
      "metadata": {
        "id": "ac9uWyG-ksjd"
      },
      "execution_count": null,
      "outputs": []
    },
    {
      "cell_type": "code",
      "source": [
        "some_text = '''\n",
        "A lack of transparency and reporting standards in the scientifc community has led to increasing and widespread\n",
        "concerns relating to reproduction\n",
        "'''\n",
        "\n",
        "print(summarise(some_text))"
      ],
      "metadata": {
        "id": "sxHTLUMWltqS"
      },
      "execution_count": null,
      "outputs": []
    },
    {
      "cell_type": "code",
      "source": [
        "bigger_text='''\n",
        "A lack of transparency and reporting standards in the scientifc community has led to increasing and widespread\n",
        "concerns relating to reproduction and integrity of results. As an omics science, which generates vast amounts of data and\n",
        "relies heavily on data science for deriving biological meaning, metabolomics is highly vulnerable to irreproducibility. The\n",
        "metabolomics community has made substantial eforts to align with FAIR data standards by promoting open data formats,\n",
        "data repositories, online spectral libraries, and metabolite databases.\n",
        "'''\n",
        "\n",
        "print(summarise(bigger_text))"
      ],
      "metadata": {
        "id": "Koub-Hmel-68"
      },
      "execution_count": null,
      "outputs": []
    },
    {
      "cell_type": "code",
      "source": [
        "!wget https://link.springer.com/content/pdf/10.1007/s11306-019-1588-0.pdf\n",
        "!pip install PyMuPDF -q"
      ],
      "metadata": {
        "id": "VG6EaaMjndO4"
      },
      "execution_count": null,
      "outputs": []
    },
    {
      "cell_type": "code",
      "execution_count": null,
      "metadata": {
        "id": "_A434v6AdI9I"
      },
      "outputs": [],
      "source": [
        "import fitz\n",
        "pdf = \"s11306-019-1588-0.pdf\"\n",
        "doc = fitz.open(pdf)\n",
        "for page in doc:\n",
        "  article = page.get_text(\"Text\")\n",
        "  article = ' '.join(article.split()[:400])\n",
        "  text = summarise(article)\n",
        "  print(text)"
      ]
    },
    {
      "cell_type": "code",
      "source": [
        "import fitz\n",
        "def sumarise_pdf(pdf):\n",
        "  doc = fitz.open(pdf)\n",
        "  for page in doc:\n",
        "    article = page.get_text(\"Text\")\n",
        "    article = ' '.join(article.split()[:400])\n",
        "    text = summarise(article)\n",
        "    return text"
      ],
      "metadata": {
        "id": "CM1fsGQP3P_F"
      },
      "execution_count": null,
      "outputs": []
    },
    {
      "cell_type": "code",
      "source": [
        "from bs4 import BeautifulSoup\n",
        "from urllib.request import Request, urlopen\n",
        "\n",
        "req = Request(\"https://en.wikipedia.org/wiki/Python_(programming_language)\")\n",
        "html_page = urlopen(req)\n",
        "\n",
        "soup = BeautifulSoup(html_page, features=\"html.parser\")\n",
        "\n",
        "for script in soup([\"script\", \"style\"]):\n",
        "    script.extract()\n",
        "\n",
        "text = soup.get_text()\n",
        "\n",
        "lines =  text.splitlines()\n",
        "\n",
        "lines = [x for x in lines if x]\n",
        "\n",
        "text = ' '.join(lines)\n",
        "text = text.split()\n",
        "text = text[:100]\n",
        "text = ' '.join(text)\n",
        "\n",
        "summarise(text)"
      ],
      "metadata": {
        "id": "vSusobUmm5Tr"
      },
      "execution_count": null,
      "outputs": []
    },
    {
      "cell_type": "code",
      "source": [
        "from bs4 import BeautifulSoup\n",
        "from urllib.request import Request, urlopen\n",
        "\n",
        "def summarise_webpage(URL):\n",
        "  req = Request(URL)\n",
        "  html_page = urlopen(req)\n",
        "  soup = BeautifulSoup(html_page, features=\"html.parser\")\n",
        "\n",
        "  for script in soup([\"script\", \"style\"]):\n",
        "      script.extract()\n",
        "\n",
        "  text = soup.get_text()\n",
        "  lines =  text.splitlines()\n",
        "  lines = [x for x in lines if x]\n",
        "  text = ' '.join(lines)\n",
        "  text = text.split()\n",
        "  text = text[:100]\n",
        "  text = ' '.join(text)\n",
        "\n",
        "  return summarise(text)\n",
        "\n",
        "text = summarise_webpage(\"https://en.wikipedia.org/wiki/Python_(programming_language)\")\n",
        "print(text)"
      ],
      "metadata": {
        "id": "PFMntyUDs3dI"
      },
      "execution_count": null,
      "outputs": []
    },
    {
      "cell_type": "code",
      "source": [
        "!pip install transformers -q\n",
        "!pip install PyMuPDF -q\n",
        "!wget https://link.springer.com/content/pdf/10.1007/s11306-019-1588-0.pdf"
      ],
      "metadata": {
        "id": "kOqByVidQSOk"
      },
      "execution_count": null,
      "outputs": []
    },
    {
      "cell_type": "code",
      "source": [
        "from bs4 import BeautifulSoup\n",
        "from urllib.request import Request, urlopen\n",
        "from transformers import pipeline\n",
        "import fitz\n",
        "\n",
        "def summarise(article):\n",
        "  assert len(article.split()) > 50, 'Please make sure your text has at least 50 words'\n",
        "\n",
        "  summary_pipeline = pipeline(\"summarization\", model=\"facebook/bart-large-cnn\")\n",
        "  summary = summary_pipeline(article, max_length = 50, min_length= 20)\n",
        "  text = summary[0]['summary_text']\n",
        "  return text\n",
        "\n",
        "def sumarise_pdf(pdf):\n",
        "  doc = fitz.open(pdf)\n",
        "  for page in doc:\n",
        "    article = page.get_text(\"Text\")\n",
        "    article = ' '.join(article.split()[:400])\n",
        "    text = summarise(article)\n",
        "    return text\n",
        "\n",
        "def summarise_webpage(URL):\n",
        "  req = Request(URL)\n",
        "  html_page = urlopen(req)\n",
        "  soup = BeautifulSoup(html_page, features=\"html.parser\")\n",
        "\n",
        "  for script in soup([\"script\", \"style\"]):\n",
        "      script.extract()\n",
        "\n",
        "  text = soup.get_text()\n",
        "  text =  text.splitlines()\n",
        "  text = [x for x in text if x]\n",
        "  text = ' '.join(lines)\n",
        "  text = text.split()\n",
        "  text = text[:100]\n",
        "  text = ' '.join(text)\n",
        "  return summarise(text)\n",
        "\n",
        "\n",
        "print(\"PDF Summary\")\n",
        "print(sumarise_pdf(\"s11306-019-1588-0.pdf\"))\n",
        "\n",
        "print(\"Webiste Summary\")\n",
        "print(summarise_webpage(\"https://en.wikipedia.org/wiki/Python_(programming_language)\"))"
      ],
      "metadata": {
        "id": "B_qn9Qq-3oqs"
      },
      "execution_count": null,
      "outputs": []
    }
  ],
  "metadata": {
    "colab": {
      "provenance": [],
      "include_colab_link": true
    },
    "kernelspec": {
      "display_name": "Python 3",
      "name": "python3"
    },
    "language_info": {
      "codemirror_mode": {
        "name": "ipython",
        "version": 3
      },
      "file_extension": ".py",
      "mimetype": "text/x-python",
      "name": "python",
      "nbconvert_exporter": "python",
      "pygments_lexer": "ipython3",
      "version": "3.9.7"
    }
  },
  "nbformat": 4,
  "nbformat_minor": 0
}